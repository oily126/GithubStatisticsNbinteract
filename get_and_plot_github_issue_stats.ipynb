{
 "cells": [
  {
   "cell_type": "code",
   "execution_count": 4,
   "metadata": {},
   "outputs": [],
   "source": [
    "#!/usr/bin/env python\n",
    "#HIDDEN\n",
    "import github3, json, os.path, datetime\n"
   ]
  },
  {
   "cell_type": "code",
   "execution_count": 5,
   "metadata": {},
   "outputs": [],
   "source": [
    "#HIDDEN\n",
    "GITHUB_TOKEN = '6230377909c68e26dca13fd9613ee74bb7496aba'\n",
    "ORG = 'awslabs'\n",
    "\n",
    "WEBRTC_REPOS = ['amazon-kinesis-video-streams-webrtc-sdk-c', \n",
    "                'amazon-kinesis-video-streams-webrtc-sdk-ios', \n",
    "                'amazon-kinesis-video-streams-webrtc-sdk-android']\n",
    "PRODUCER_REPOS = ['amazon-kinesis-video-streams-producer-sdk-cpp', \n",
    "                  'amazon-kinesis-video-streams-producer-c', \n",
    "                  'amazon-kinesis-video-streams-producer-sdk-java', \n",
    "                  'amazon-kinesis-video-streams-pic']\n",
    "FILENAME_WEBRTC_ISSUES = 'WebRTC_issues.json'\n",
    "FILENAME_PRODUCER_ISSUES = 'Producer_issues.json'"
   ]
  },
  {
   "cell_type": "code",
   "execution_count": 6,
   "metadata": {},
   "outputs": [],
   "source": [
    "#HIDDEN\n",
    "#gh = github3.login(token=GITHUB_TOKEN)\n",
    "gh = github3.login()\n",
    "#print(gh)"
   ]
  },
  {
   "cell_type": "code",
   "execution_count": 7,
   "metadata": {},
   "outputs": [],
   "source": [
    "#HIDDEN\n",
    "def get_issues(REPOS, FILENAME):\n",
    "    data = {}\n",
    "    #if os.path.isfile(FILENAME):\n",
    "    #    f = open(FILENAME_WEBRTC_ISSUES)\n",
    "    #    data = json.load(f)\n",
    "    #    f.close()\n",
    "        \n",
    "    for REPO in REPOS:\n",
    "        print(REPO)\n",
    "        data[REPO] = {}\n",
    "        for i in gh.issues_on(ORG, REPO, state='all'):\n",
    "            data[REPO][i.number] = {\n",
    "                'created_at': i.created_at,\n",
    "                'closed_at': i.closed_at,\n",
    "                'is_pull_request': (i.pull_request is not None)\n",
    "            }\n",
    "            \n",
    "    f = open(FILENAME, 'w')\n",
    "    json.dump(data, f, cls=DateTimeEncoder)\n",
    "    f.close()"
   ]
  },
  {
   "cell_type": "code",
   "execution_count": 7,
   "metadata": {},
   "outputs": [],
   "source": [
    "#HIDDEN\n",
    "def get_issues(REPOS, FILENAME):\n",
    "    data = {}\n",
    "    #if os.path.isfile(FILENAME):\n",
    "    #    f = open(FILENAME_WEBRTC_ISSUES)\n",
    "    #    data = json.load(f)\n",
    "    #    f.close()\n",
    "        \n",
    "    for REPO in REPOS:\n",
    "        print(REPO)\n",
    "        data[REPO] = {}\n",
    "        for i in gh.issues_on(ORG, REPO, state='all'):\n",
    "            data[REPO][i.number] = {\n",
    "                'created_at': i.created_at,\n",
    "                'closed_at': i.closed_at,\n",
    "                'is_pull_request': (i.pull_request is not None)\n",
    "            }\n",
    "            \n",
    "    f = open(FILENAME, 'w')\n",
    "    json.dump(data, f, cls=DateTimeEncoder)\n",
    "    f.close()\n",
    "class DateTimeEncoder(json.JSONEncoder):\n",
    "  def default(self, obj):\n",
    "    if isinstance(obj, datetime.datetime):\n",
    "      return obj.isoformat()\n",
    "    elif isinstance(obj, datetime.date):\n",
    "      return obj.isoformat()\n",
    "    elif isinstance(obj, datetime.timedelta):\n",
    "      return (datetime.datetime.min + obj).time().isoformat()\n",
    "    else:\n",
    "      return super(DateTimeEncoder, self).default(obj)\n",
    "def extract_datetime(s):\n",
    "  if isinstance(s, datetime.datetime):\n",
    "    return s\n",
    "  return datetime.datetime.strptime(s[:-3] + s[-2:], '%Y-%m-%dT%H:%M:%S%z')"
   ]
  },
  {
   "cell_type": "code",
   "execution_count": 8,
   "metadata": {},
   "outputs": [
    {
     "name": "stdout",
     "output_type": "stream",
     "text": [
      "amazon-kinesis-video-streams-webrtc-sdk-c\n",
      "amazon-kinesis-video-streams-webrtc-sdk-ios\n",
      "amazon-kinesis-video-streams-webrtc-sdk-android\n"
     ]
    }
   ],
   "source": [
    "#HIDDEN\n",
    "get_issues(WEBRTC_REPOS, FILENAME_WEBRTC_ISSUES)      "
   ]
  },
  {
   "cell_type": "code",
   "execution_count": 9,
   "metadata": {},
   "outputs": [
    {
     "name": "stdout",
     "output_type": "stream",
     "text": [
      "amazon-kinesis-video-streams-producer-sdk-cpp\n",
      "amazon-kinesis-video-streams-producer-c\n",
      "amazon-kinesis-video-streams-producer-sdk-java\n",
      "amazon-kinesis-video-streams-pic\n"
     ]
    }
   ],
   "source": [
    "#HIDDEN\n",
    "get_issues(PRODUCER_REPOS, FILENAME_PRODUCER_ISSUES)"
   ]
  },
  {
   "cell_type": "code",
   "execution_count": 23,
   "metadata": {},
   "outputs": [],
   "source": [
    "#!/usr/bin/env python\n",
    "# -*- coding: utf-8 -*-\n",
    "\n",
    "#HIDDEN\n",
    "import matplotlib.pyplot as plt\n",
    "import pandas as pd\n",
    "import seaborn as sns\n",
    "%matplotlib inline\n",
    "\n",
    "import json, datetime\n",
    "\n",
    "# tweak here the names of the github org and repo to analyse\n",
    "ORG = 'awslabs'\n",
    "WEBRTC_REPOS = ['amazon-kinesis-video-streams-webrtc-sdk-c', \n",
    "                'amazon-kinesis-video-streams-webrtc-sdk-ios', \n",
    "                'amazon-kinesis-video-streams-webrtc-sdk-android']\n",
    "PRODUCER_REPOS = ['amazon-kinesis-video-streams-producer-sdk-cpp', \n",
    "                  'amazon-kinesis-video-streams-producer-c', \n",
    "                  'amazon-kinesis-video-streams-producer-sdk-java', \n",
    "                  'amazon-kinesis-video-streams-pic']\n",
    "FILENAME_WEBRTC_ISSUES = 'WebRTC_issues.json'\n",
    "FILENAME_PRODUCER_ISSUES = 'Producer_issues.json'\n",
    "\n",
    "FILENAME_WEBRTC_COUNTS = 'WebRTC_counts.csv'\n",
    "FILENAME_PRODUCER_COUNTS = 'Producer_counts.csv'\n",
    "\n",
    "\n",
    "\n",
    "#BUG_LABEL = ['bug']\n",
    "\n",
    "one_day = datetime.timedelta(days=1)\n",
    "now = datetime.datetime.now(datetime.timezone.utc)\n"
   ]
  },
  {
   "cell_type": "code",
   "execution_count": 25,
   "metadata": {},
   "outputs": [],
   "source": [
    "#HIDDEN\n",
    "def load_file(FILENAME):\n",
    "    with open(FILENAME, encoding='utf-8', errors='ignore') as json_data:\n",
    "        data = json.load(json_data, strict=False)\n",
    "    return data"
   ]
  },
  {
   "cell_type": "code",
   "execution_count": 29,
   "metadata": {},
   "outputs": [],
   "source": [
    "#HIDDEN\n",
    "def get_first_date(REPOS, data):\n",
    "    first_dates = []\n",
    "    for REPO in REPOS:\n",
    "        if REPO not in data.keys() and len(data[REPO]) == 0:\n",
    "            raise SystemExit()\n",
    "\n",
    "        # convert all date strings to datetime objects\n",
    "        for i in data[REPO].keys():\n",
    "            data[REPO][i]['created_at'] = extract_datetime(data[REPO][i]['created_at'])\n",
    "            if data[REPO][i]['closed_at'] is not None:\n",
    "                data[REPO][i]['closed_at'] = extract_datetime(data[REPO][i]['closed_at'])\n",
    "\n",
    "        # retrieve highest issue number\n",
    "        last_number = min([int(i) for i in data[REPO].keys()])\n",
    "        first_dates.append(extract_datetime(data[REPO][str(last_number)]['created_at']))    \n",
    "        \n",
    "    first_date = datetime.date.today()\n",
    "    #print(first)\n",
    "    for date in first_dates:\n",
    "        day = date.date()\n",
    "        if (day < first_date):\n",
    "            first_date = day\n",
    "\n",
    "    return first_date\n",
    "        "
   ]
  },
  {
   "cell_type": "code",
   "execution_count": 30,
   "metadata": {},
   "outputs": [],
   "source": [
    "#HIDDEN\n",
    "def get_results(REPOS, FILENAME_ISSUES, FILENAME_COUNTS):\n",
    "    \n",
    "    data = load_file(FILENAME_ISSUES)\n",
    "    \n",
    "    first_date = get_first_date(REPOS, data)\n",
    "    print(first_date)\n",
    "    \n",
    "    day = datetime.datetime(first_date.year, first_date.month, first_date.day, tzinfo=datetime.timezone.utc)\n",
    "    day += one_day\n",
    "\n",
    "    result = {}\n",
    "\n",
    "    f = open(FILENAME_COUNTS, 'w')\n",
    "    f.write('date, total_issues, open_issues, closed_issue, open_prs, closed_prs, ranking')\n",
    "    #f.write('date\\topen_issues\\tclosed_issues\\topen_prs\\tclosed_prs\\tranking\\t%s\\n'%'\\t'.join(APP_LABEL))\n",
    "    \n",
    "    while day < now:\n",
    "        key = day.strftime('%Y-%m-%d')\n",
    "        #print(key)\n",
    "\n",
    "        open_pr_count = 0\n",
    "        closed_pr_count = 0\n",
    "        open_issue_count = 0\n",
    "        closed_issue_count = 0\n",
    "        total_issue_count = 0\n",
    "        rating_number = 0\n",
    "        rating_apps = {}\n",
    "\n",
    "        for REPO in REPOS:   \n",
    "            for i in data[REPO]:\n",
    "                element = data[REPO][i]\n",
    "\n",
    "                if element['created_at'] > day:\n",
    "                    continue\n",
    "\n",
    "                #print(element)\n",
    "                is_open = True\n",
    "                total_issue_count += 1\n",
    "                if isinstance(element['closed_at'], datetime.datetime) and element['closed_at'] < day:\n",
    "                    is_open = False\n",
    "                    closed_issue_count += 1\n",
    "                else: \n",
    "                    open_issue_count += 1\n",
    "\n",
    "\n",
    "        output = '%s,%i,%i,%i,%i,%i'%(key, total_issue_count, open_issue_count, closed_issue_count, open_pr_count, closed_pr_count)\n",
    "        #print(output)\n",
    "        f.write(output + '\\n')\n",
    "\n",
    "        day += one_day\n",
    "\n",
    "    f.close()"
   ]
  },
  {
   "cell_type": "code",
   "execution_count": 31,
   "metadata": {},
   "outputs": [
    {
     "name": "stdout",
     "output_type": "stream",
     "text": [
      "2017-11-29\n"
     ]
    }
   ],
   "source": [
    "#HIDDEN\n",
    "get_results(PRODUCER_REPOS, FILENAME_PRODUCER_ISSUES, FILENAME_PRODUCER_COUNTS)\n",
    "     "
   ]
  },
  {
   "cell_type": "code",
   "execution_count": 32,
   "metadata": {},
   "outputs": [
    {
     "name": "stdout",
     "output_type": "stream",
     "text": [
      "2019-11-26\n"
     ]
    }
   ],
   "source": [
    "#HIDDEN\n",
    "get_results(WEBRTC_REPOS, FILENAME_WEBRTC_ISSUES, FILENAME_WEBRTC_COUNTS)    "
   ]
  },
  {
   "cell_type": "code",
   "execution_count": 33,
   "metadata": {},
   "outputs": [],
   "source": [
    "#HIDDEN\n",
    "import pandas as pd \n",
    "import numpy as np"
   ]
  },
  {
   "cell_type": "code",
   "execution_count": 34,
   "metadata": {},
   "outputs": [],
   "source": [
    "#HIDDEN\n",
    "def get_df(FILENAME):\n",
    "    df=pd.read_csv(FILENAME, parse_dates = ['date'])\n",
    "    df['date'] = pd.to_datetime(df['date'])\n",
    "    df.set_index('date', inplace=True)\n",
    "    df.rename(columns = {' total_issues':'total_issues', ' open_issues':'open_issues', \n",
    "                                  ' closed_issue':'closed_issues'}, inplace = True) \n",
    "    df = df.filter(['date','total_issues','open_issues','closed_issues'])\n",
    "    \n",
    "    idx = pd.date_range(df.index[0], df.index[-1])\n",
    "    df = df.reindex(idx, fill_value=0)\n",
    "    df['Month_End'] = df.index.is_month_end\n",
    "    sample_df = df[df['Month_End'] == 1].copy()\n",
    "    sample_df = sample_df.drop(['Month_End'], axis=1)\n",
    "    \n",
    "    sLength = len(sample_df['total_issues'])\n",
    "    #print(sLength)\n",
    "    issues_opened =  pd.Series(np.zeros(sLength))\n",
    "    issues_closed =  pd.Series(np.zeros(sLength))\n",
    "    sample_df = sample_df.assign(issues_opened=issues_opened.values)\n",
    "    sample_df = sample_df.assign(issues_closed=issues_closed.values)\n",
    "    sample_df.head()\n",
    "    \n",
    "    sample_df['issues_opened'] = sample_df.total_issues.shift().fillna(0) \n",
    "    sample_df['issues_closed'] = sample_df.closed_issues.shift().fillna(0) \n",
    "\n",
    "    sample_df['issues_opened'] = sample_df['total_issues'] - sample_df['issues_opened']\n",
    "    sample_df['issues_closed'] = sample_df['closed_issues'] - sample_df['issues_closed']\n",
    "\n",
    "    sample_df.head()\n",
    "    \n",
    "    return sample_df\n",
    "\n"
   ]
  },
  {
   "cell_type": "code",
   "execution_count": 35,
   "metadata": {},
   "outputs": [
    {
     "data": {
      "image/png": "[encoded data removed]",
      "text/plain": [
       "<Figure size 432x288 with 1 Axes>"
      ]
     },
     "metadata": {
      "needs_background": "light"
     },
     "output_type": "display_data"
    }
   ],
   "source": [
    "# nbi:hide_in\n",
    "df_producer = get_df(FILENAME_PRODUCER_COUNTS)\n",
    "df2 = df_producer[['open_issues', 'issues_opened', 'issues_closed']]\n",
    "ax = df2.plot(title='Producer SDK Github Issues');\n"
   ]
  },
  {
   "cell_type": "code",
   "execution_count": 36,
   "metadata": {},
   "outputs": [
    {
     "data": {
      "image/png": "[encoded data removed]",
      "text/plain": [
       "<Figure size 432x288 with 1 Axes>"
      ]
     },
     "metadata": {
      "needs_background": "light"
     },
     "output_type": "display_data"
    }
   ],
   "source": [
    "# nbi:hide_in\n",
    "df_webrtc = get_df(FILENAME_WEBRTC_COUNTS)\n",
    "df2 = df_webrtc[['open_issues', 'issues_opened', 'issues_closed']]\n",
    "ax = df2.plot(title = 'WebRTC SDK Github Issues');\n"
   ]
  },
  {
   "cell_type": "code",
   "execution_count": 37,
   "metadata": {},
   "outputs": [
    {
     "data": {
      "text/html": [
       "<div>\n",
       "<style scoped>\n",
       "    .dataframe tbody tr th:only-of-type {\n",
       "        vertical-align: middle;\n",
       "    }\n",
       "\n",
       "    .dataframe tbody tr th {\n",
       "        vertical-align: top;\n",
       "    }\n",
       "\n",
       "    .dataframe thead th {\n",
       "        text-align: right;\n",
       "    }\n",
       "</style>\n",
       "<table border=\"1\" class=\"dataframe\">\n",
       "  <thead>\n",
       "    <tr style=\"text-align: right;\">\n",
       "      <th></th>\n",
       "      <th>total_issues</th>\n",
       "      <th>open_issues</th>\n",
       "      <th>closed_issues</th>\n",
       "    </tr>\n",
       "    <tr>\n",
       "      <th>date</th>\n",
       "      <th></th>\n",
       "      <th></th>\n",
       "      <th></th>\n",
       "    </tr>\n",
       "  </thead>\n",
       "  <tbody>\n",
       "    <tr>\n",
       "      <th>2017-12-01</th>\n",
       "      <td>2</td>\n",
       "      <td>2</td>\n",
       "      <td>0</td>\n",
       "    </tr>\n",
       "    <tr>\n",
       "      <th>2017-12-02</th>\n",
       "      <td>4</td>\n",
       "      <td>3</td>\n",
       "      <td>1</td>\n",
       "    </tr>\n",
       "    <tr>\n",
       "      <th>2017-12-03</th>\n",
       "      <td>6</td>\n",
       "      <td>5</td>\n",
       "      <td>1</td>\n",
       "    </tr>\n",
       "    <tr>\n",
       "      <th>2017-12-04</th>\n",
       "      <td>8</td>\n",
       "      <td>7</td>\n",
       "      <td>1</td>\n",
       "    </tr>\n",
       "    <tr>\n",
       "      <th>2017-12-05</th>\n",
       "      <td>8</td>\n",
       "      <td>6</td>\n",
       "      <td>2</td>\n",
       "    </tr>\n",
       "  </tbody>\n",
       "</table>\n",
       "</div>"
      ],
      "text/plain": [
       "            total_issues  open_issues  closed_issues\n",
       "date                                                \n",
       "2017-12-01             2            2              0\n",
       "2017-12-02             4            3              1\n",
       "2017-12-03             6            5              1\n",
       "2017-12-04             8            7              1\n",
       "2017-12-05             8            6              2"
      ]
     },
     "execution_count": 37,
     "metadata": {},
     "output_type": "execute_result"
    }
   ],
   "source": [
    "# nbi:hide_in\n",
    "# nbi:hide_out\n",
    "df=pd.read_csv(FILENAME_PRODUCER_COUNTS, parse_dates = ['date'])\n",
    "df['date'] = pd.to_datetime(df['date'])\n",
    "df.set_index('date', inplace=True)\n",
    "df.rename(columns = {' total_issues':'total_issues', ' open_issues':'open_issues', \n",
    "                              ' closed_issue':'closed_issues'}, inplace = True) \n",
    "df = df.filter(['date','total_issues','open_issues','closed_issues'])\n",
    "\n",
    "df.head()"
   ]
  },
  {
   "cell_type": "code",
   "execution_count": 38,
   "metadata": {},
   "outputs": [],
   "source": [
    "#HIDDEN\n",
    "idx = pd.date_range(df.index[0], df.index[-1])\n",
    "df = df.reindex(idx, fill_value=0)\n",
    "df['Month_End'] = df.index.is_month_end\n",
    "sample_df = df[df['Month_End'] == 1].copy()"
   ]
  },
  {
   "cell_type": "code",
   "execution_count": 39,
   "metadata": {},
   "outputs": [
    {
     "data": {
      "text/html": [
       "<div>\n",
       "<style scoped>\n",
       "    .dataframe tbody tr th:only-of-type {\n",
       "        vertical-align: middle;\n",
       "    }\n",
       "\n",
       "    .dataframe tbody tr th {\n",
       "        vertical-align: top;\n",
       "    }\n",
       "\n",
       "    .dataframe thead th {\n",
       "        text-align: right;\n",
       "    }\n",
       "</style>\n",
       "<table border=\"1\" class=\"dataframe\">\n",
       "  <thead>\n",
       "    <tr style=\"text-align: right;\">\n",
       "      <th></th>\n",
       "      <th>total_issues</th>\n",
       "      <th>open_issues</th>\n",
       "      <th>closed_issues</th>\n",
       "      <th>Month_End</th>\n",
       "    </tr>\n",
       "  </thead>\n",
       "  <tbody>\n",
       "    <tr>\n",
       "      <th>2020-05-03</th>\n",
       "      <td>635</td>\n",
       "      <td>41</td>\n",
       "      <td>594</td>\n",
       "      <td>False</td>\n",
       "    </tr>\n",
       "    <tr>\n",
       "      <th>2020-05-04</th>\n",
       "      <td>637</td>\n",
       "      <td>38</td>\n",
       "      <td>599</td>\n",
       "      <td>False</td>\n",
       "    </tr>\n",
       "    <tr>\n",
       "      <th>2020-05-05</th>\n",
       "      <td>641</td>\n",
       "      <td>41</td>\n",
       "      <td>600</td>\n",
       "      <td>False</td>\n",
       "    </tr>\n",
       "    <tr>\n",
       "      <th>2020-05-06</th>\n",
       "      <td>644</td>\n",
       "      <td>42</td>\n",
       "      <td>602</td>\n",
       "      <td>False</td>\n",
       "    </tr>\n",
       "    <tr>\n",
       "      <th>2020-05-07</th>\n",
       "      <td>647</td>\n",
       "      <td>44</td>\n",
       "      <td>603</td>\n",
       "      <td>False</td>\n",
       "    </tr>\n",
       "  </tbody>\n",
       "</table>\n",
       "</div>"
      ],
      "text/plain": [
       "            total_issues  open_issues  closed_issues  Month_End\n",
       "2020-05-03           635           41            594      False\n",
       "2020-05-04           637           38            599      False\n",
       "2020-05-05           641           41            600      False\n",
       "2020-05-06           644           42            602      False\n",
       "2020-05-07           647           44            603      False"
      ]
     },
     "execution_count": 39,
     "metadata": {},
     "output_type": "execute_result"
    }
   ],
   "source": [
    "# nbi:hide_in\n",
    "df.tail()"
   ]
  },
  {
   "cell_type": "code",
   "execution_count": 40,
   "metadata": {},
   "outputs": [
    {
     "data": {
      "text/html": [
       "<div>\n",
       "<style scoped>\n",
       "    .dataframe tbody tr th:only-of-type {\n",
       "        vertical-align: middle;\n",
       "    }\n",
       "\n",
       "    .dataframe tbody tr th {\n",
       "        vertical-align: top;\n",
       "    }\n",
       "\n",
       "    .dataframe thead th {\n",
       "        text-align: right;\n",
       "    }\n",
       "</style>\n",
       "<table border=\"1\" class=\"dataframe\">\n",
       "  <thead>\n",
       "    <tr style=\"text-align: right;\">\n",
       "      <th></th>\n",
       "      <th>total_issues</th>\n",
       "      <th>open_issues</th>\n",
       "      <th>closed_issues</th>\n",
       "    </tr>\n",
       "  </thead>\n",
       "  <tbody>\n",
       "    <tr>\n",
       "      <th>2017-12-31</th>\n",
       "      <td>34</td>\n",
       "      <td>10</td>\n",
       "      <td>24</td>\n",
       "    </tr>\n",
       "    <tr>\n",
       "      <th>2018-01-31</th>\n",
       "      <td>51</td>\n",
       "      <td>7</td>\n",
       "      <td>44</td>\n",
       "    </tr>\n",
       "    <tr>\n",
       "      <th>2018-02-28</th>\n",
       "      <td>68</td>\n",
       "      <td>7</td>\n",
       "      <td>61</td>\n",
       "    </tr>\n",
       "    <tr>\n",
       "      <th>2018-03-31</th>\n",
       "      <td>93</td>\n",
       "      <td>11</td>\n",
       "      <td>82</td>\n",
       "    </tr>\n",
       "    <tr>\n",
       "      <th>2018-04-30</th>\n",
       "      <td>109</td>\n",
       "      <td>10</td>\n",
       "      <td>99</td>\n",
       "    </tr>\n",
       "  </tbody>\n",
       "</table>\n",
       "</div>"
      ],
      "text/plain": [
       "            total_issues  open_issues  closed_issues\n",
       "2017-12-31            34           10             24\n",
       "2018-01-31            51            7             44\n",
       "2018-02-28            68            7             61\n",
       "2018-03-31            93           11             82\n",
       "2018-04-30           109           10             99"
      ]
     },
     "execution_count": 40,
     "metadata": {},
     "output_type": "execute_result"
    }
   ],
   "source": [
    "#HIDDEN\n",
    "sample_df = sample_df.drop(['Month_End'], axis=1)\n",
    "sample_df.head()\n"
   ]
  },
  {
   "cell_type": "code",
   "execution_count": 41,
   "metadata": {},
   "outputs": [
    {
     "data": {
      "text/html": [
       "<div>\n",
       "<style scoped>\n",
       "    .dataframe tbody tr th:only-of-type {\n",
       "        vertical-align: middle;\n",
       "    }\n",
       "\n",
       "    .dataframe tbody tr th {\n",
       "        vertical-align: top;\n",
       "    }\n",
       "\n",
       "    .dataframe thead th {\n",
       "        text-align: right;\n",
       "    }\n",
       "</style>\n",
       "<table border=\"1\" class=\"dataframe\">\n",
       "  <thead>\n",
       "    <tr style=\"text-align: right;\">\n",
       "      <th></th>\n",
       "      <th>total_issues</th>\n",
       "      <th>open_issues</th>\n",
       "      <th>closed_issues</th>\n",
       "      <th>issues_opened</th>\n",
       "      <th>issues_closed</th>\n",
       "    </tr>\n",
       "  </thead>\n",
       "  <tbody>\n",
       "    <tr>\n",
       "      <th>2017-12-31</th>\n",
       "      <td>34</td>\n",
       "      <td>10</td>\n",
       "      <td>24</td>\n",
       "      <td>0.0</td>\n",
       "      <td>0.0</td>\n",
       "    </tr>\n",
       "    <tr>\n",
       "      <th>2018-01-31</th>\n",
       "      <td>51</td>\n",
       "      <td>7</td>\n",
       "      <td>44</td>\n",
       "      <td>0.0</td>\n",
       "      <td>0.0</td>\n",
       "    </tr>\n",
       "    <tr>\n",
       "      <th>2018-02-28</th>\n",
       "      <td>68</td>\n",
       "      <td>7</td>\n",
       "      <td>61</td>\n",
       "      <td>0.0</td>\n",
       "      <td>0.0</td>\n",
       "    </tr>\n",
       "    <tr>\n",
       "      <th>2018-03-31</th>\n",
       "      <td>93</td>\n",
       "      <td>11</td>\n",
       "      <td>82</td>\n",
       "      <td>0.0</td>\n",
       "      <td>0.0</td>\n",
       "    </tr>\n",
       "    <tr>\n",
       "      <th>2018-04-30</th>\n",
       "      <td>109</td>\n",
       "      <td>10</td>\n",
       "      <td>99</td>\n",
       "      <td>0.0</td>\n",
       "      <td>0.0</td>\n",
       "    </tr>\n",
       "  </tbody>\n",
       "</table>\n",
       "</div>"
      ],
      "text/plain": [
       "            total_issues  open_issues  closed_issues  issues_opened  \\\n",
       "2017-12-31            34           10             24            0.0   \n",
       "2018-01-31            51            7             44            0.0   \n",
       "2018-02-28            68            7             61            0.0   \n",
       "2018-03-31            93           11             82            0.0   \n",
       "2018-04-30           109           10             99            0.0   \n",
       "\n",
       "            issues_closed  \n",
       "2017-12-31            0.0  \n",
       "2018-01-31            0.0  \n",
       "2018-02-28            0.0  \n",
       "2018-03-31            0.0  \n",
       "2018-04-30            0.0  "
      ]
     },
     "execution_count": 41,
     "metadata": {},
     "output_type": "execute_result"
    }
   ],
   "source": [
    "#HIDDEN\n",
    "sLength = len(sample_df['total_issues'])\n",
    "#print(sLength)\n",
    "issues_opened =  pd.Series(np.zeros(sLength))\n",
    "issues_closed =  pd.Series(np.zeros(sLength))\n",
    "sample_df = sample_df.assign(issues_opened=issues_opened.values)\n",
    "sample_df = sample_df.assign(issues_closed=issues_closed.values)\n",
    "sample_df.head()\n",
    "\n",
    "#sample_df = sample_df.assign('issues_opened'=pd.Series(np.zeros(sLength)).values)\n",
    "#sample_df.loc[:,'issues_opened'] = pd.Series(np.zeros(sLength), index=sample_df.index)\n",
    "#sample_df.loc[:,'issues_closed'] = pd.Series(np.zeros(sLength), index=sample_df.index)\n",
    "\n"
   ]
  },
  {
   "cell_type": "code",
   "execution_count": 42,
   "metadata": {},
   "outputs": [
    {
     "data": {
      "text/html": [
       "<div>\n",
       "<style scoped>\n",
       "    .dataframe tbody tr th:only-of-type {\n",
       "        vertical-align: middle;\n",
       "    }\n",
       "\n",
       "    .dataframe tbody tr th {\n",
       "        vertical-align: top;\n",
       "    }\n",
       "\n",
       "    .dataframe thead th {\n",
       "        text-align: right;\n",
       "    }\n",
       "</style>\n",
       "<table border=\"1\" class=\"dataframe\">\n",
       "  <thead>\n",
       "    <tr style=\"text-align: right;\">\n",
       "      <th></th>\n",
       "      <th>total_issues</th>\n",
       "      <th>open_issues</th>\n",
       "      <th>closed_issues</th>\n",
       "      <th>issues_opened</th>\n",
       "      <th>issues_closed</th>\n",
       "    </tr>\n",
       "  </thead>\n",
       "  <tbody>\n",
       "    <tr>\n",
       "      <th>2017-12-31</th>\n",
       "      <td>34</td>\n",
       "      <td>10</td>\n",
       "      <td>24</td>\n",
       "      <td>34.0</td>\n",
       "      <td>24.0</td>\n",
       "    </tr>\n",
       "    <tr>\n",
       "      <th>2018-01-31</th>\n",
       "      <td>51</td>\n",
       "      <td>7</td>\n",
       "      <td>44</td>\n",
       "      <td>17.0</td>\n",
       "      <td>20.0</td>\n",
       "    </tr>\n",
       "    <tr>\n",
       "      <th>2018-02-28</th>\n",
       "      <td>68</td>\n",
       "      <td>7</td>\n",
       "      <td>61</td>\n",
       "      <td>17.0</td>\n",
       "      <td>17.0</td>\n",
       "    </tr>\n",
       "    <tr>\n",
       "      <th>2018-03-31</th>\n",
       "      <td>93</td>\n",
       "      <td>11</td>\n",
       "      <td>82</td>\n",
       "      <td>25.0</td>\n",
       "      <td>21.0</td>\n",
       "    </tr>\n",
       "    <tr>\n",
       "      <th>2018-04-30</th>\n",
       "      <td>109</td>\n",
       "      <td>10</td>\n",
       "      <td>99</td>\n",
       "      <td>16.0</td>\n",
       "      <td>17.0</td>\n",
       "    </tr>\n",
       "  </tbody>\n",
       "</table>\n",
       "</div>"
      ],
      "text/plain": [
       "            total_issues  open_issues  closed_issues  issues_opened  \\\n",
       "2017-12-31            34           10             24           34.0   \n",
       "2018-01-31            51            7             44           17.0   \n",
       "2018-02-28            68            7             61           17.0   \n",
       "2018-03-31            93           11             82           25.0   \n",
       "2018-04-30           109           10             99           16.0   \n",
       "\n",
       "            issues_closed  \n",
       "2017-12-31           24.0  \n",
       "2018-01-31           20.0  \n",
       "2018-02-28           17.0  \n",
       "2018-03-31           21.0  \n",
       "2018-04-30           17.0  "
      ]
     },
     "execution_count": 42,
     "metadata": {},
     "output_type": "execute_result"
    }
   ],
   "source": [
    "#HIDDEN\n",
    "sample_df['issues_opened'] = sample_df.total_issues.shift().fillna(0) \n",
    "sample_df['issues_closed'] = sample_df.closed_issues.shift().fillna(0) \n",
    "\n",
    "sample_df['issues_opened'] = sample_df['total_issues'] - sample_df['issues_opened']\n",
    "sample_df['issues_closed'] = sample_df['closed_issues'] - sample_df['issues_closed']\n",
    "\n",
    "sample_df.head()\n",
    "\n",
    "#sample"
   ]
  },
  {
   "cell_type": "code",
   "execution_count": 43,
   "metadata": {},
   "outputs": [
    {
     "data": {
      "image/png": "[encoded data removed]",
      "text/plain": [
       "<Figure size 432x288 with 1 Axes>"
      ]
     },
     "metadata": {
      "needs_background": "light"
     },
     "output_type": "display_data"
    }
   ],
   "source": [
    "# nbi:hide_in\n",
    "df2 = sample_df[['open_issues', 'issues_opened', 'issues_closed']]\n",
    "df2.plot();"
   ]
  }
 ],
 "metadata": {
  "kernelspec": {
   "display_name": "Python 3",
   "language": "python",
   "name": "python3"
  },
  "language_info": {
   "codemirror_mode": {
    "name": "ipython",
    "version": 3
   },
   "file_extension": ".py",
   "mimetype": "text/x-python",
   "name": "python",
   "nbconvert_exporter": "python",
   "pygments_lexer": "ipython3",
   "version": "3.7.7"
  }
 },
 "nbformat": 4,
 "nbformat_minor": 4
}
